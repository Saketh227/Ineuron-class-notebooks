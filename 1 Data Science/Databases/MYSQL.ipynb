{
 "cells": [
  {
   "cell_type": "code",
   "execution_count": 1,
   "id": "c92bb482",
   "metadata": {},
   "outputs": [
    {
     "name": "stdout",
     "output_type": "stream",
     "text": [
      "[('data_analysis_stack_exchange_movies',), ('db',), ('information_schema',), ('mysql',), ('performance_schema',), ('practicedb',), ('sakethdb',), ('sys',)]\n"
     ]
    }
   ],
   "source": [
    "import mysql.connector as connection\n",
    "\n",
    "try:\n",
    "    mydb = connection.connect(host=\"localhost\", user=\"root\", passwd=\"Skqgi9782\", use_pure=True)\n",
    "    \n",
    "    query = \"SHOW DATABASES\"\n",
    "    \n",
    "    cursor = mydb.cursor()\n",
    "    cursor.execute(query)\n",
    "    print(cursor.fetchall())\n",
    "    \n",
    "except Exception as e:\n",
    "    mydb.close()\n",
    "    print(str(e))"
   ]
  },
  {
   "cell_type": "code",
   "execution_count": 1,
   "id": "c1d0c0ae",
   "metadata": {},
   "outputs": [
    {
     "name": "stdout",
     "output_type": "stream",
     "text": [
      "[('bank',), ('table1',), ('table2',)]\n"
     ]
    }
   ],
   "source": [
    "try:\n",
    "    mydb = connection.connect(host=\"localhost\", user=\"root\", passwd=\"Skqgi9782\",database=\"sakethdb\", use_pure=True)\n",
    "    \n",
    "    query = \"SHOW TABLES\"\n",
    "    \n",
    "    cursor = mydb.cursor()\n",
    "    cursor.execute(query)\n",
    "    print(cursor.fetchall())\n",
    "    \n",
    "except Exception as e:\n",
    "    mydb.close()\n",
    "    print(str(e))"
   ]
  },
  {
   "cell_type": "code",
   "execution_count": 13,
   "id": "ba1f5592",
   "metadata": {},
   "outputs": [
    {
     "name": "stdout",
     "output_type": "stream",
     "text": [
      "('Sno', b'int', 'YES', '', None, '')\n",
      "('last_name', b'varchar(10)', 'YES', '', None, '')\n",
      "('first_name', b'varchar(10)', 'YES', '', None, '')\n",
      "('DOB', b'date', 'YES', '', None, '')\n",
      "(1, 'saketh', 'linga', datetime.date(1998, 10, 9))\n",
      "(2, 'saketh', 'linga', datetime.date(1998, 9, 10))\n",
      "(2, 'saketh', 'linga', datetime.date(1998, 9, 10))\n",
      "(3, 'saketh', 'linga', datetime.date(1998, 9, 10))\n",
      "(4, 'sailaja', 'linga', datetime.date(1975, 12, 28))\n",
      "(5, 'saisree', 'linga', datetime.date(1994, 4, 27))\n",
      "('saketh', 'linga')\n",
      "('sailaja', 'linga')\n",
      "('saisree', 'linga')\n"
     ]
    }
   ],
   "source": [
    "try:\n",
    "    mydb = connection.connect(host=\"localhost\", user=\"root\", passwd=\"Skqgi9782\",database=\"sakethdb\", use_pure=True)\n",
    "    \n",
    "    query = \"DESC table1\"\n",
    "    \n",
    "    cursor = mydb.cursor()\n",
    "    cursor.execute(query)\n",
    "    for i in cursor.fetchall():\n",
    "        print(i)\n",
    "    \n",
    "    cursor.execute(\"INSERT INTO table1 VALUES (4, 'sailaja','linga','1975-12-28'),(5,'saisree','linga','1994-04-27')\")\n",
    "    mydb.commit()\n",
    "    \n",
    "    cursor.execute(\"SELECT * FROM table1\")\n",
    "    for i in cursor.fetchall():\n",
    "        print(i)\n",
    "        \n",
    "    cursor.execute(\"SELECT DISTINCT last_name,first_name FROM table1\")\n",
    "    \n",
    "    \n",
    "    for i in cursor.fetchall():\n",
    "        print(i)\n",
    "        \n",
    "except Exception as e:\n",
    "    mydb.close()\n",
    "    print(str(e))"
   ]
  },
  {
   "cell_type": "code",
   "execution_count": 16,
   "id": "08e41e96",
   "metadata": {},
   "outputs": [
    {
     "name": "stdout",
     "output_type": "stream",
     "text": [
      "(19, 'student', 'single', 'unknown', 'no', 0, 'no', 'no', 'cellular', 11, 'feb', 123, 3, -1, 0, 'unknown', 'no')\n",
      "(19, 'student', 'single', 'primary', 'no', 103, 'no', 'no', 'cellular', 10, 'jul', 104, 2, -1, 0, 'unknown', 'yes')\n",
      "(19, 'student', 'single', 'secondary', 'no', 302, 'no', 'no', 'cellular', 16, 'jul', 205, 1, -1, 0, 'unknown', 'yes')\n",
      "(19, 'student', 'single', 'unknown', 'no', 1169, 'no', 'no', 'cellular', 6, 'feb', 463, 18, -1, 0, 'unknown', 'no')\n",
      "(20, 'student', 'single', 'secondary', 'no', 1191, 'no', 'no', 'cellular', 12, 'feb', 274, 1, -1, 0, 'unknown', 'no')\n"
     ]
    }
   ],
   "source": [
    "try:\n",
    "    mydb = connection.connect(host=\"localhost\", user=\"root\", passwd=\"Skqgi9782\",database=\"sakethdb\", use_pure=True)\n",
    "    \n",
    "    query = \"SELECT * FROM bank ORDER BY age LIMIT 5\"\n",
    "    \n",
    "    cursor = mydb.cursor()\n",
    "    cursor.execute(query)\n",
    "    for i in cursor.fetchall():\n",
    "        print(i)\n",
    "    \n",
    "except Exception as e:\n",
    "    mydb.close()\n",
    "    print(str(e))"
   ]
  },
  {
   "cell_type": "code",
   "execution_count": 19,
   "id": "cf79a0be",
   "metadata": {},
   "outputs": [
    {
     "name": "stdout",
     "output_type": "stream",
     "text": [
      "(44, 'management', 'married', 'secondary', 'no', -1746, 'yes', 'no', 'unknown', 20, 'jun', 218, 1, -1, 0, 'unknown', 'no')\n"
     ]
    }
   ],
   "source": [
    "try:\n",
    "    mydb = connection.connect(host=\"localhost\", user=\"root\", passwd=\"Skqgi9782\",database=\"sakethdb\", use_pure=True)\n",
    "    \n",
    "    query = \"SELECT * FROM bank WHERE balance=(SELECT min(balance) FROM bank)\"\n",
    "    \n",
    "    cursor = mydb.cursor()\n",
    "    cursor.execute(query)\n",
    "    for i in cursor.fetchall():\n",
    "        print(i)\n",
    "    \n",
    "except Exception as e:\n",
    "    mydb.close()\n",
    "    print(str(e))"
   ]
  },
  {
   "cell_type": "code",
   "execution_count": null,
   "id": "05112217",
   "metadata": {},
   "outputs": [],
   "source": []
  },
  {
   "cell_type": "code",
   "execution_count": null,
   "id": "8e1dc679",
   "metadata": {},
   "outputs": [],
   "source": []
  },
  {
   "cell_type": "code",
   "execution_count": null,
   "id": "a0b73f3e",
   "metadata": {},
   "outputs": [],
   "source": []
  },
  {
   "cell_type": "code",
   "execution_count": null,
   "id": "c1b211a3",
   "metadata": {},
   "outputs": [],
   "source": []
  }
 ],
 "metadata": {
  "kernelspec": {
   "display_name": "Python 3 (ipykernel)",
   "language": "python",
   "name": "python3"
  },
  "language_info": {
   "codemirror_mode": {
    "name": "ipython",
    "version": 3
   },
   "file_extension": ".py",
   "mimetype": "text/x-python",
   "name": "python",
   "nbconvert_exporter": "python",
   "pygments_lexer": "ipython3",
   "version": "3.9.12"
  }
 },
 "nbformat": 4,
 "nbformat_minor": 5
}
