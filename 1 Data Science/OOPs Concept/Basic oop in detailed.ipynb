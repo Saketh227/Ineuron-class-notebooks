{
 "cells": [
  {
   "cell_type": "code",
   "execution_count": 2,
   "id": "6fec0b39",
   "metadata": {},
   "outputs": [
    {
     "name": "stdout",
     "output_type": "stream",
     "text": [
      "human,  neandarthals,  ape\n",
      "\n",
      "Linga,   Saketh,   1998\n",
      "\n",
      "24,   25\n",
      "\n",
      "human,   neandarthals,   human\n",
      "\n",
      "Linga,   1998\n",
      "\n",
      "24\n",
      "\n",
      "__init__() missing 3 required positional arguments: 'name', 'surname', and 'YOB'\n",
      "\n",
      "('Linga', 1976, 'Sailaja', 'evolved human', 'Homo sapien', 'ape')\n",
      "\n",
      "46\n",
      "\n",
      "evolved human,   Homo sapien,   ape,   ape\n",
      "\n",
      "Linga,   Sailaja,   1976\n",
      "\n"
     ]
    }
   ],
   "source": [
    "class Person:\n",
    "    species = \"human\"\n",
    "    _branch = \"neandarthals\"\n",
    "    __ancestors = \"ape\"\n",
    "    \n",
    "    def __init__(self,name,surname,YOB):\n",
    "        self._name =name\n",
    "        self.surname = surname\n",
    "        self.__YOB = YOB \n",
    "        \n",
    "        \n",
    "    def _age(self,current_year):\n",
    "        return current_year-self.__YOB\n",
    "    \n",
    "    def __age1(self,current_year):\n",
    "        return current_year-self.__YOB\n",
    "    \n",
    "    \n",
    "    \n",
    "    def get_species(self):\n",
    "        return Person.species # self.species\n",
    "    \n",
    "    def get_branch(self):\n",
    "        return self._branch\n",
    "    \n",
    "    def get_ancestors(self):\n",
    "        return self.__ancestors\n",
    "    \n",
    "    \n",
    "    def get_name(self):\n",
    "        return self._name\n",
    "    \n",
    "    def get_YOB(self):\n",
    "        return self.__YOB\n",
    "    \n",
    "    def call_member_function(self):\n",
    "        return self._age(2022)\n",
    "    \n",
    "    \n",
    "    \n",
    "class Employee(Person):\n",
    "    species = \"evolved human\"\n",
    "    _branch = \"Homo sapien\"\n",
    "    __ancestors= \"ape\"\n",
    "    \n",
    "    def get_parent_attr(self):\n",
    "        '''using parent class attributes in child class.'''\n",
    "        return self._name, self._Person__YOB,self.surname, self.species, self._branch, self._Person__ancestors\n",
    "    \n",
    "    def get_parent_member_function(self):\n",
    "        '''using parent class member functions in  child class'''\n",
    "        return self._Person__age1(2022)\n",
    "\n",
    "\n",
    "        \n",
    "p1 = Person(\"Linga\",\"Saketh\",1998)\n",
    "\n",
    "\n",
    "'''Acessing class variables and Instance variables ,member functions of class \n",
    "   with object of same class'''\n",
    "\n",
    "print(p1.species, p1._branch, p1._Person__ancestors,  sep= \",  \", end=\"\\n\\n\")\n",
    "print(p1._name, p1.surname, p1._Person__YOB, sep=\",   \" ,  end=\"\\n\\n\")\n",
    "print(p1._age(2022), p1._Person__age1(2023),sep=\",   \" ,  end=\"\\n\\n\")\n",
    "\n",
    "\n",
    "'''Acessing Class variables , instance variables, member functions\n",
    "   with in the same class '''\n",
    "\n",
    "print(p1.get_species(), p1.get_branch(), p1.get_species(), sep=\",   \" ,  end=\"\\n\\n\")\n",
    "print(p1.get_name(), p1.get_YOB(), sep=\",   \" ,  end=\"\\n\\n\")\n",
    "print(p1.call_member_function(), sep=\",   \" ,  end=\"\\n\\n\")\n",
    "\n",
    "\n",
    "\n",
    "\n",
    "\n",
    "try:\n",
    "    E1=Employee()\n",
    "    \n",
    "except Exception as e:\n",
    "    print(e ,  end=\"\\n\\n\")\n",
    "\n",
    "    \n",
    "# Note: While instantiating child class we need to pass parent class initialisors arguments\n",
    "E2= Employee(\"Linga\", \"Sailaja\",1976)\n",
    "\n",
    "print(E2.get_parent_attr(),  end=\"\\n\\n\")\n",
    "print(E2.get_parent_member_function(),  end=\"\\n\\n\")\n",
    "\n",
    "print(E2.species,E2._branch,E2._Person__ancestors , E2._Employee__ancestors,sep=\",   \" ,  end=\"\\n\\n\")\n",
    "print(E2._name,E2.surname,E2._Person__YOB, sep=\",   \" ,  end=\"\\n\\n\")\n"
   ]
  },
  {
   "cell_type": "code",
   "execution_count": 15,
   "id": "d0394563",
   "metadata": {},
   "outputs": [
    {
     "name": "stdout",
     "output_type": "stream",
     "text": [
      "24\n",
      "47\n",
      "47\n"
     ]
    },
    {
     "data": {
      "text/plain": [
       "1998"
      ]
     },
     "execution_count": 15,
     "metadata": {},
     "output_type": "execute_result"
    }
   ],
   "source": [
    "'''the updated variables of child class will show effect in the methods of child class and \n",
    "   methods parent class(only if the variables are either public or protected)\n",
    "   if private we need to update it in the method of parent class only'''\n",
    "class Person:\n",
    "    _name=\"saketh\"\n",
    "    surname=\"linga\"\n",
    "    __YOB=1998\n",
    "    \n",
    "    def _age(self,current_year):\n",
    "        return current_year-self.__YOB\n",
    "    \n",
    "    def __age1(self,current_year):\n",
    "        return current_year-self.__YOB\n",
    "    \n",
    "    def update_private(self,value):\n",
    "        self.__YOB=value\n",
    "    \n",
    "class Employee(Person):\n",
    "    _name = \"sailaja\"\n",
    "    surname = \"linga\"\n",
    "    __YOB = 1975\n",
    "    \n",
    "    def _age_emp(self,current_year):\n",
    "        return current_year-self.__YOB\n",
    "    \n",
    "#     def update_private(self,value):\n",
    "#         self.__YOB=value\n",
    "    \n",
    "E1=Employee()\n",
    "print(E1._age(2022))\n",
    "\n",
    "E1.update_private(E1._Employee__YOB)\n",
    "print(E1._age(2022))\n",
    "\n",
    "print(E1._age_emp(2022))\n",
    "\n",
    "p=Person()\n",
    "p._Person__YOB"
   ]
  },
  {
   "cell_type": "code",
   "execution_count": 14,
   "id": "a2cf5766",
   "metadata": {},
   "outputs": [
    {
     "name": "stdout",
     "output_type": "stream",
     "text": [
      "24\n",
      "24\n"
     ]
    }
   ],
   "source": [
    "class Person:\n",
    "    _name=\"saketh\"\n",
    "    surname=\"linga\"\n",
    "    __YOB=1998\n",
    "    \n",
    "    def _age(self,current_year):\n",
    "        return current_year-self.__YOB\n",
    "    \n",
    "    def __age1(self,current_year):\n",
    "        return current_year-self.__YOB\n",
    "    \n",
    "    \n",
    "class Employee(Person):\n",
    "    _name = \"sailaja\"\n",
    "    surname = \"linga\"\n",
    "    __YOB = 1975\n",
    "    \n",
    "    def update_private(self,value):\n",
    "        self.__YOB=value\n",
    "    \n",
    "E1=Employee()\n",
    "print(E1._age(2022))\n",
    "\n",
    "E1.update_private(E1._Employee__YOB)\n",
    "print(E1._age(2022))"
   ]
  },
  {
   "cell_type": "code",
   "execution_count": 36,
   "id": "1a98bb15",
   "metadata": {},
   "outputs": [
    {
     "data": {
      "text/plain": [
       "47"
      ]
     },
     "execution_count": 36,
     "metadata": {},
     "output_type": "execute_result"
    }
   ],
   "source": [
    "class Person:\n",
    "    _name=\"saketh\"\n",
    "    surname=\"linga\"\n",
    "    _YOB=1998\n",
    "    \n",
    "    def _age(self,current_year):\n",
    "        return current_year-self._YOB\n",
    "    \n",
    "    def __age1(self,current_year):\n",
    "        return current_year-self._YOB\n",
    "    \n",
    "class Employee(Person):\n",
    "    _name = \"sailaja\"\n",
    "    surname = \"linga\"\n",
    "    _YOB = 1975\n",
    "    \n",
    "E1=Employee()\n",
    "E1._age(2022)"
   ]
  },
  {
   "cell_type": "code",
   "execution_count": null,
   "id": "499c984e",
   "metadata": {},
   "outputs": [],
   "source": []
  },
  {
   "cell_type": "markdown",
   "id": "3f9a39a3",
   "metadata": {},
   "source": [
    "> Printing Objects \n",
    "\n",
    "* Printing objects give us information about objects we are working with. \n",
    "\n",
    "* In python, this can be achieved by using __repr__ or __str__ methods."
   ]
  },
  {
   "cell_type": "code",
   "execution_count": 20,
   "id": "66abd053",
   "metadata": {},
   "outputs": [
    {
     "name": "stdout",
     "output_type": "stream",
     "text": [
      "From str method of Test: a is 1234,b is 5678\n",
      "[Test a:1234 b:5678]\n"
     ]
    }
   ],
   "source": [
    "class Test:\n",
    "\tdef __init__(self, a, b):\n",
    "\t\tself.a = a\n",
    "\t\tself.b = b\n",
    "\n",
    "\tdef __repr__(self):\n",
    "\t\treturn \"Test a:%s b:%s\" % (self.a, self.b)\n",
    "\n",
    "\tdef __str__(self):\n",
    "\t\treturn \"From str method of Test: a is %s,\" \\\n",
    "\t\t\t\"b is %s\" % (self.a, self.b)\n",
    "\n",
    "# Driver Code\n",
    "t = Test(1234, 5678)\n",
    "print(t) # This calls __str__()\n",
    "print([t]) # This calls __repr__()\n"
   ]
  },
  {
   "cell_type": "code",
   "execution_count": 21,
   "id": "8902ed28",
   "metadata": {},
   "outputs": [
    {
     "name": "stdout",
     "output_type": "stream",
     "text": [
      "Test a:1234 b:5678\n"
     ]
    }
   ],
   "source": [
    "# If no __str__ method is defined, print t (or print str(t)) uses __repr__. \n",
    "\n",
    "\n",
    "class Test:\n",
    "    def __init__(self, a, b):\n",
    "        self.a = a\n",
    "        self.b = b\n",
    "  \n",
    "    def __repr__(self):\n",
    "        return \"Test a:%s b:%s\" % (self.a, self.b)\n",
    "  \n",
    "# Driver Code        \n",
    "t = Test(1234, 5678)\n",
    "print(t) "
   ]
  },
  {
   "cell_type": "code",
   "execution_count": 22,
   "id": "1ed6e19a",
   "metadata": {},
   "outputs": [
    {
     "name": "stdout",
     "output_type": "stream",
     "text": [
      "<__main__.Test object at 0x000002BF39D72490>\n"
     ]
    }
   ],
   "source": [
    "# If no __repr__ method is defined then the default is used. \n",
    "\n",
    "class Test:\n",
    "    def __init__(self, a, b):\n",
    "        self.a = a\n",
    "        self.b = b\n",
    "  \n",
    "# Driver Code        \n",
    "t = Test(1234, 5678)\n",
    "print(t) "
   ]
  },
  {
   "cell_type": "code",
   "execution_count": null,
   "id": "1ceb84a9",
   "metadata": {},
   "outputs": [],
   "source": []
  }
 ],
 "metadata": {
  "kernelspec": {
   "display_name": "Python 3 (ipykernel)",
   "language": "python",
   "name": "python3"
  },
  "language_info": {
   "codemirror_mode": {
    "name": "ipython",
    "version": 3
   },
   "file_extension": ".py",
   "mimetype": "text/x-python",
   "name": "python",
   "nbconvert_exporter": "python",
   "pygments_lexer": "ipython3",
   "version": "3.9.12"
  }
 },
 "nbformat": 4,
 "nbformat_minor": 5
}
